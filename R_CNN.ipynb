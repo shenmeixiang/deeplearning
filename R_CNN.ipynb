{
  "nbformat": 4,
  "nbformat_minor": 0,
  "metadata": {
    "colab": {
      "provenance": []
    },
    "kernelspec": {
      "name": "python3",
      "display_name": "Python 3"
    },
    "language_info": {
      "name": "python"
    }
  },
  "cells": [
    {
      "cell_type": "code",
      "source": [
        "x0=140\n",
        "y0=160\n",
        "w0=180\n",
        "h0=180"
      ],
      "metadata": {
        "id": "CmD_IGZfzKmN"
      },
      "execution_count": 3,
      "outputs": []
    },
    {
      "cell_type": "code",
      "source": [
        "x1=130\n",
        "y1=160\n",
        "w1=170\n",
        "h1=180"
      ],
      "metadata": {
        "id": "zeaoD6H30Zqt"
      },
      "execution_count": 4,
      "outputs": []
    },
    {
      "cell_type": "code",
      "source": [
        "x0=50\n",
        "y0=250\n",
        "w0=180\n",
        "h0=180"
      ],
      "metadata": {
        "id": "-lQ8oreR-r4Q"
      },
      "execution_count": 5,
      "outputs": []
    },
    {
      "cell_type": "code",
      "source": [
        "x1=45\n",
        "y1=250\n",
        "w1=170\n",
        "h1=180"
      ],
      "metadata": {
        "id": "Uyq4AGoc-uJP"
      },
      "execution_count": 6,
      "outputs": []
    },
    {
      "cell_type": "code",
      "execution_count": 7,
      "metadata": {
        "colab": {
          "base_uri": "https://localhost:8080/"
        },
        "id": "SsyaEtqoxHMz",
        "outputId": "bd5f60a0-e4ef-4bfe-9507-5a2f67a1e1ff"
      },
      "outputs": [
        {
          "output_type": "stream",
          "name": "stdout",
          "text": [
            "165\n",
            "180\n",
            "29700\n"
          ]
        },
        {
          "output_type": "execute_result",
          "data": {
            "text/plain": [
              "33300"
            ]
          },
          "metadata": {},
          "execution_count": 7
        }
      ],
      "source": [
        "W = w0+w1-(max((x0+w0),(x1+w1))-min(x0,x1));print(W)\n",
        "H = h0+h1-(max((y0+h0),(h1+h1))-min(y0,y1));print(H)\n",
        "Intersection = W*H ;print(Intersection )\n",
        "Union = w0*h0 + w1*h1 -Intersection;Union"
      ]
    },
    {
      "cell_type": "code",
      "source": [
        "iou=Intersection/Union\n",
        "iou"
      ],
      "metadata": {
        "colab": {
          "base_uri": "https://localhost:8080/"
        },
        "id": "8ha2ssgxzlgk",
        "outputId": "9793499a-74f4-4214-ab11-43d3f234e9ba"
      },
      "execution_count": 8,
      "outputs": [
        {
          "output_type": "execute_result",
          "data": {
            "text/plain": [
              "0.8918918918918919"
            ]
          },
          "metadata": {},
          "execution_count": 8
        }
      ]
    },
    {
      "cell_type": "code",
      "source": [
        "gt_box = [50,250,230,70];\n",
        "b_box= [45,250,215,70]\n",
        "#b_box= [300,180,140,130]"
      ],
      "metadata": {
        "id": "o01_fyXm6TR-"
      },
      "execution_count": 9,
      "outputs": []
    },
    {
      "cell_type": "code",
      "source": [
        "def compute_iou(gt_box,b_box):\n",
        "    '''\n",
        "    计算iou\n",
        "    :param gt_box: ground truth gt_box = [x0,y0,x1,y1]（x0,y0)为左上角的坐标（x1,y1）为右下角的坐标\n",
        "    :param b_box: bounding box b_box 表示形式同上\n",
        "    :return:\n",
        "    '''\n",
        "    width0=gt_box[2]-gt_box[0]\n",
        "    height0 = gt_box[3] - gt_box[1]\n",
        "    width1 = b_box[2] - b_box[0]\n",
        "    height1 = b_box[3] - b_box[1]\n",
        "    max_x =max(gt_box[2],b_box[2])\n",
        "    min_x = min(gt_box[0],b_box[0])\n",
        "    width = width0 + width1 -(max_x-min_x)\n",
        "    max_y = max(gt_box[3],b_box[3])\n",
        "    min_y = min(gt_box[1],b_box[1])\n",
        "    height = height0 + height1 - (max_y - min_y)\n",
        "\n",
        "    interArea = width * height\n",
        "    boxAArea = width0 * height0\n",
        "    boxBArea = width1 * height1\n",
        "    iou = interArea / (boxAArea + boxBArea - interArea)\n",
        "    return iou\n"
      ],
      "metadata": {
        "id": "IiopA4CyxPnp"
      },
      "execution_count": 10,
      "outputs": []
    },
    {
      "cell_type": "code",
      "source": [
        "compute_iou(gt_box,b_box)\n"
      ],
      "metadata": {
        "colab": {
          "base_uri": "https://localhost:8080/"
        },
        "id": "J2rqcHIgyV0V",
        "outputId": "b7be50c6-d357-4794-c36e-641c2b5ada36"
      },
      "execution_count": 11,
      "outputs": [
        {
          "output_type": "execute_result",
          "data": {
            "text/plain": [
              "0.8918918918918919"
            ]
          },
          "metadata": {},
          "execution_count": 11
        }
      ]
    },
    {
      "cell_type": "code",
      "source": [],
      "metadata": {
        "id": "LVB44-3c2I2q"
      },
      "execution_count": null,
      "outputs": []
    }
  ]
}